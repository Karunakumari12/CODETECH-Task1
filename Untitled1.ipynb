{
  "nbformat": 4,
  "nbformat_minor": 0,
  "metadata": {
    "colab": {
      "provenance": [],
      "authorship_tag": "ABX9TyOV1GM+AetpePOpcQ4OcURi",
      "include_colab_link": true
    },
    "kernelspec": {
      "name": "python3",
      "display_name": "Python 3"
    },
    "language_info": {
      "name": "python"
    }
  },
  "cells": [
    {
      "cell_type": "markdown",
      "metadata": {
        "id": "view-in-github",
        "colab_type": "text"
      },
      "source": [
        "<a href=\"https://colab.research.google.com/github/Karunakumari12/CODETECH-Task1/blob/main/Untitled1.ipynb\" target=\"_parent\"><img src=\"https://colab.research.google.com/assets/colab-badge.svg\" alt=\"Open In Colab\"/></a>"
      ]
    },
    {
      "cell_type": "code",
      "execution_count": 12,
      "metadata": {
        "colab": {
          "base_uri": "https://localhost:8080/",
          "height": 106
        },
        "id": "yu_4-RYiwbCo",
        "outputId": "5dcd378d-031d-4bfb-97a5-60f5a3c525c8"
      },
      "outputs": [
        {
          "output_type": "error",
          "ename": "IndentationError",
          "evalue": "unindent does not match any outer indentation level (<tokenize>, line 53)",
          "traceback": [
            "\u001b[0;36m  File \u001b[0;32m\"<tokenize>\"\u001b[0;36m, line \u001b[0;32m53\u001b[0m\n\u001b[0;31m    time.sleep(1)\u001b[0m\n\u001b[0m    ^\u001b[0m\n\u001b[0;31mIndentationError\u001b[0m\u001b[0;31m:\u001b[0m unindent does not match any outer indentation level\n"
          ]
        }
      ],
      "source": [
        "from datetime import datetime\n",
        "import time\n",
        "from IPython.display import Audio\n",
        "\n",
        "def validate_time(alarm_time):\n",
        "    if len(alarm_time) != 11:\n",
        "        return \"Invalid time format! Please try again...\"\n",
        "    else:\n",
        "        if int(alarm_time[0:2]) > 12 or int(alarm_time[0:2]) < 1:\n",
        "            return \"Invalid HOUR format! Please try again...\"\n",
        "        elif int(alarm_time[3:5]) > 59:\n",
        "            return \"Invalid MINUTE format! Please try again...\"\n",
        "        elif int(alarm_time[6:8]) > 59:\n",
        "            return \"Invalid SECOND format! Please try again...\"\n",
        "        else:\n",
        "            return \"ok\"\n",
        "\n",
        "while True:\n",
        "    alarm_time = input(\"Enter time in 'HH:MM:SS AM/PM' format: \")\n",
        "\n",
        "    validate = validate_time(alarm_time)\n",
        "    if validate != \"ok\":\n",
        "        print(validate)\n",
        "    else:\n",
        "        print(f\"Setting alarm for {alarm_time}...\")\n",
        "        break\n",
        "\n",
        "alarm_hour = alarm_time[0:2]\n",
        "alarm_min = alarm_time[3:5]\n",
        "alarm_sec = alarm_time[6:8]\n",
        "alarm_period = alarm_time[9:].upper()\n",
        "\n",
        "while True:\n",
        "    now = datetime.now()\n",
        "\n",
        "    current_hour = now.strftime(\"%I\")  # 12-hour format\n",
        "    current_min =  now.strftime(\"%M\")\n",
        "    current_sec = now.strftime(\"%S\")\n",
        "    current_period = now.strftime(\"%p\")  # AM or PM\n",
        "\n",
        "    if alarm_period == current_period:\n",
        "        if alarm_hour == current_hour:\n",
        "            if alarm_min == current_min:\n",
        "                if alarm_sec == current_sec:\n",
        "                    print(\"Wake Up!\")\n",
        "                    # Play sound using IPython.display.Audio\n",
        "                    try:\n",
        "                        sound_file = 'path_to_your_alarm_file.wav'  # Replace with your file path\n",
        "                        display(Audio(sound_file, autoplay=True))\n",
        "                    except Exception as e:\n",
        "                        print(f\"Error playing sound: {e}\")\n",
        "                    break\n",
        "   time.sleep(1)"
      ]
    },
    {
      "cell_type": "code",
      "source": [],
      "metadata": {
        "id": "TVJLmrfDxT6R"
      },
      "execution_count": null,
      "outputs": []
    },
    {
      "cell_type": "code",
      "source": [
        "from datetime import datetime\n",
        "import time\n",
        "from IPython.display import Audio\n",
        "\n",
        "def validate_time(alarm_time):\n",
        "    if len(alarm_time) != 11:\n",
        "        return \"Invalid time format! Please try again...\"\n",
        "    else:\n",
        "        if int(alarm_time[0:2]) > 12 or int(alarm_time[0:2]) < 1:\n",
        "            return \"Invalid HOUR format! Please try again...\"\n",
        "        elif int(alarm_time[3:5]) > 59:\n",
        "            return \"Invalid MINUTE format! Please try again...\"\n",
        "        elif int(alarm_time[6:8]) > 59:\n",
        "            return \"Invalid SECOND format! Please try again...\"\n",
        "        else:\n",
        "            return \"ok\"\n",
        "\n",
        "while True:\n",
        "    alarm_time = input(\"Enter time in 'HH:MM:SS AM/PM' format: \")\n",
        "\n",
        "    validate = validate_time(alarm_time)\n",
        "    if validate != \"ok\":\n",
        "        print(validate)\n",
        "    else:\n",
        "        print(f\"Setting alarm for {alarm_time}...\")\n",
        "        break\n",
        "\n",
        "alarm_hour = alarm_time[0:2]\n",
        "alarm_min = alarm_time[3:5]\n",
        "alarm_sec = alarm_time[6:8]\n",
        "alarm_period = alarm_time[9:].upper()\n",
        "\n",
        "while True:\n",
        "    now = datetime.now()\n",
        "\n",
        "    current_hour = now.strftime(\"%I\")  # 12-hour format\n",
        "    current_min = now.strftime(\"%M\")\n",
        "    current_sec = now.strftime(\"%S\")\n",
        "    current_period = now.strftime(\"%p\")  # AM or PM\n",
        "\n",
        "    if alarm_period == current_period:\n",
        "        if alarm_hour == current_hour:\n",
        "            if alarm_min == current_min:\n",
        "                if alarm_sec == current_sec:\n",
        "                    print(\"Wake Up!\")\n",
        "                    # Play sound using IPython.display.Audio\n",
        "                    try:\n",
        "                        sound_file = 'path_to_your_alarm_file.wav'  # Replace with your file path\n",
        "                        display(Audio(sound_file, autoplay=True))\n",
        "                    except Exception as e:\n",
        "                        print(f\"Error playing sound: {e}\")\n",
        "                    break\n",
        "    time.sleep(1)"
      ],
      "metadata": {
        "colab": {
          "base_uri": "https://localhost:8080/"
        },
        "id": "4_guza_2xVpu",
        "outputId": "ce89f727-ac1f-4fc1-b018-028cda0ad4eb"
      },
      "execution_count": null,
      "outputs": [
        {
          "output_type": "stream",
          "name": "stdout",
          "text": [
            "Enter time in 'HH:MM:SS AM/PM' format: 13:28\n",
            "Invalid time format! Please try again...\n",
            "Enter time in 'HH:MM:SS AM/PM' format: 13:28PM\n",
            "Invalid time format! Please try again...\n",
            "Enter time in 'HH:MM:SS AM/PM' format: 01:29PM\n",
            "Invalid time format! Please try again...\n",
            "Enter time in 'HH:MM:SS AM/PM' format: 01:29 pm\n",
            "Invalid time format! Please try again...\n",
            "Enter time in 'HH:MM:SS AM/PM' format: 01:29:55 PM\n",
            "Setting alarm for 01:29:55 PM...\n"
          ]
        }
      ]
    }
  ]
}